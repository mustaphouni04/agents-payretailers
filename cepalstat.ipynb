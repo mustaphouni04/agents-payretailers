{
 "cells": [
  {
   "cell_type": "code",
   "execution_count": 4,
   "metadata": {},
   "outputs": [],
   "source": [
    "# request from curl -X GET \"https://api-cepalstat.cepal.org/cepalstat/api/v1/thematic-tree?lang=en&format=json\" -H  \"accept: application/json\"\n",
    "\n",
    "import requests\n",
    "import json\n",
    "\n",
    "def get_cepalstat_data():\n",
    "\turl = \"https://api-cepalstat.cepal.org/cepalstat/api/v1/thematic-tree?lang=en&format=json\"\n",
    "\theaders = {\n",
    "\t\t\"accept\": \"application/json\"\n",
    "\t}\n",
    "\n",
    "\tresponse = requests.get(url, headers=headers)\n",
    "\n",
    "\tif response.status_code == 200:\n",
    "\t\tdata = response.json()\n",
    "\t\treturn data\n",
    "\telse:\n",
    "\t\tprint(f\"Error: {response.status_code}\")\n",
    "\t\treturn None"
   ]
  },
  {
   "cell_type": "code",
   "execution_count": 5,
   "metadata": {},
   "outputs": [],
   "source": [
    "data = get_cepalstat_data()"
   ]
  },
  {
   "cell_type": "code",
   "execution_count": 6,
   "metadata": {},
   "outputs": [],
   "source": [
    "subjects = data[\"body\"][\"children\"]\n",
    "subjects_names = [subj[\"name\"] for subj in subjects]"
   ]
  },
  {
   "cell_type": "code",
   "execution_count": 7,
   "metadata": {},
   "outputs": [],
   "source": [
    "subjects_children = [subject[\"children\"] for subject in subjects]\n",
    "subjects_children_flatten = [item for sublist in subjects_children for item in sublist]\n",
    "subjects_children_names = []\n",
    "for subject_children in subjects_children:\n",
    "\tfor subjects_child in subject_children:\n",
    "\t\tsubjects_children_names.append(subjects_child[\"name\"])"
   ]
  },
  {
   "cell_type": "code",
   "execution_count": 8,
   "metadata": {},
   "outputs": [
    {
     "name": "stdout",
     "output_type": "stream",
     "text": []
    }
   ],
   "source": [
    "subjects_children_children = [subjects_child[\"children\"] for subjects_child in subjects_children_flatten]\n",
    "subjects_children_children_flatten = [item for sublist in subjects_children_children for item in sublist]\n",
    "subjects_children_children_names = []\n",
    "for subjects_children_child in subjects_children_children:\n",
    "\tfor subjects_children_child in subjects_children_child:\n",
    "\t\tsubjects_children_children_names.append(subjects_children_child[\"name\"])\n",
    "subjects_children_children_names"
   ]
  },
  {
   "cell_type": "code",
   "execution_count": 9,
   "metadata": {},
   "outputs": [],
   "source": [
    "subjects_children_children_children = [subjects_children_child[\"children\"] for subjects_children_child in subjects_children_children_flatten]\n",
    "subjects_children_children_children_flatten = [item for sublist in subjects_children_children_children for item in sublist]\n",
    "subjects_children_children_children_flatten = [subjects_children_children_children_flatten[i] for i in range(len(subjects_children_children_children_flatten)) if \"indicator_id\" in subjects_children_children_children_flatten[i]]\n",
    "subjects_children_children_children_names = [subjects_children_children_child[\"name\"] for subjects_children_children_child in subjects_children_children_children_flatten]\n",
    "subjects_children_children_children_ids = [subjects_children_children_child[\"indicator_id\"] for subjects_children_children_child in subjects_children_children_children_flatten]"
   ]
  },
  {
   "cell_type": "code",
   "execution_count": 10,
   "metadata": {},
   "outputs": [
    {
     "name": "stdout",
     "output_type": "stream",
     "text": []
    }
   ],
   "source": [
    "subjects_children_children_children_names"
   ]
  },
  {
   "cell_type": "code",
   "execution_count": 11,
   "metadata": {},
   "outputs": [
    {
     "name": "stdout",
     "output_type": "stream",
     "text": []
    }
   ],
   "source": [
    "# fint the one that has no indicator_id\n",
    "for subjects_children_children_child in subjects_children_children_flatten:\n",
    "\tif \"indicator_id\" not in subjects_children_children_child:\n",
    "\t\tprint(subjects_children_children_child)\n",
    "\t\tbreak"
   ]
  },
  {
   "cell_type": "code",
   "execution_count": 12,
   "metadata": {},
   "outputs": [
    {
     "name": "stdout",
     "output_type": "stream",
     "text": []
    }
   ],
   "source": [
    "indicator_id = 4788\n",
    "request = f\"https://api-cepalstat.cepal.org/cepalstat/api/v1/indicator/{indicator_id}/dimensions\"\n",
    "headers = {\n",
    "\t\"accept\": \"application/json\",\n",
    "}\n",
    "response = requests.get(request, headers=headers)\n",
    "response.raise_for_status()\n",
    "# get the dimensions\n",
    "dimensions_raw = response.json()\n",
    "dimensions = dimensions_raw[\"body\"][\"dimensions\"]\n",
    "dimensions_names = [dimension[\"name\"] for dimension in dimensions]\n",
    "dimensions_ids = [dimension[\"id\"] for dimension in dimensions]\n",
    "dimensions_names, dimensions_ids"
   ]
  },
  {
   "cell_type": "code",
   "execution_count": 13,
   "metadata": {},
   "outputs": [
    {
     "name": "stdout",
     "output_type": "stream",
     "text": []
    }
   ],
   "source": [
    "possible_values = {}\n",
    "for dimension in dimensions:\n",
    "\tdimension_name = dimension[\"name\"]\n",
    "\tmembers = dimension[\"members\"]\n",
    "\tmembers_names = [member[\"name\"] for member in members]\n",
    "\tmembers_ids = [member[\"id\"] for member in members]\n",
    "\tpossible_values[dimension_name] = dict(zip(members_names, members_ids))\n",
    "possible_values"
   ]
  },
  {
   "cell_type": "code",
   "execution_count": 14,
   "metadata": {},
   "outputs": [
    {
     "name": "stdout",
     "output_type": "stream",
     "text": []
    }
   ],
   "source": [
    "possible_values_prompt = {key: list(value.keys()) for key, value in possible_values.items()}\n",
    "possible_values_prompt"
   ]
  },
  {
   "cell_type": "code",
   "execution_count": 15,
   "metadata": {},
   "outputs": [],
   "source": [
    "dimensions_values = {\"Country__ESTANDAR\": [\"Bolivia (Plurinational State of)\", \"Brazil\"], \"Years__ESTANDAR\": [\"2020\"], \"Sex\": [\"Men\"]}"
   ]
  },
  {
   "cell_type": "code",
   "execution_count": 16,
   "metadata": {},
   "outputs": [
    {
     "name": "stdout",
     "output_type": "stream",
     "text": []
    }
   ],
   "source": [
    "# dimensions_values_ids = {key: possible_values[key][dimensions_values[key]] for key in dimensions_names if dimensions_values[key] is not None}.values()\n",
    "dimensions_values_ids = []\n",
    "for key in dimensions_names:\n",
    "\tif dimensions_values[key] is not None:\n",
    "\t\tks = dimensions_values[key]\n",
    "\t\tfor k in ks:\n",
    "\t\t\tdimensions_values_ids.append(str(possible_values[key][k]))\n",
    "members = \",\".join(map(str,dimensions_values_ids))\n",
    "# members = \"216,88626,29195\"\n",
    "members, dimensions_values_ids"
   ]
  },
  {
   "cell_type": "code",
   "execution_count": 17,
   "metadata": {},
   "outputs": [
    {
     "name": "stdout",
     "output_type": "stream",
     "text": []
    }
   ],
   "source": [
    "def make_request(url, headers=None, params=None):\n",
    "    response = requests.get(url, headers=headers, params=params)\n",
    "    response.raise_for_status()  # Raise an error for bad responses\n",
    "    return response.json()\n",
    "\n",
    "indicator_id = 4788\n",
    "\n",
    "response = make_request(f\"https://api-cepalstat.cepal.org/cepalstat/api/v1/indicator/{indicator_id}/data\", \n",
    "                        params={\"members\": members})\n",
    "response[\"body\"][\"data\"]"
   ]
  },
  {
   "cell_type": "code",
   "execution_count": 18,
   "metadata": {},
   "outputs": [
    {
     "name": "stdout",
     "output_type": "stream",
     "text": []
    }
   ],
   "source": [
    "def get_key(possible_values, id):\n",
    "\tfor area in possible_values:\n",
    "\t\tfor key, value in possible_values[area].items():\n",
    "\t\t\tif id == value:\n",
    "\t\t\t\treturn key\n",
    "get_key(possible_values, 29190)"
   ]
  },
  {
   "cell_type": "code",
   "execution_count": 19,
   "metadata": {},
   "outputs": [
    {
     "name": "stdout",
     "output_type": "stream",
     "text": []
    }
   ],
   "source": [
    "indicator_name = \"Total population, by sex\"\n",
    "prompt = f\"{indicator_name}:\\n\"\n",
    "for point in response[\"body\"][\"data\"]:\n",
    "\tvalue = point[\"value\"]\n",
    "\tids = [val for key,val in point.items() if key not in (\"value\", \"source_id\", \"notes_ids\", \"iso3\")]\n",
    "\tdims = [get_key(possible_values, id) for id in ids]\n",
    "\tdims_str = \", \".join(dims)\n",
    "\tprompt += f\"{dims_str}: {value}\\n\"\n",
    "print(prompt)"
   ]
  },
  {
   "cell_type": "code",
   "execution_count": 20,
   "metadata": {},
   "outputs": [],
   "source": [
    "import Levenshtein\n",
    "import json\n",
    "\n",
    "def get_closer_string(query: str, possible_values: list) -> str:\n",
    "\tmin_distance = float(\"inf\")\n",
    "\tclosest_string = \"\"\n",
    "\tfor value in possible_values:\n",
    "\t\tdistance = Levenshtein.distance(query, value)\n",
    "\t\tif distance < min_distance:\n",
    "\t\t\tmin_distance = distance\n",
    "\t\t\tclosest_string = value\n",
    "\treturn closest_string\n",
    "\n",
    "none_values = {'Years__ESTANDAR': None}\n",
    "response2 = {\n",
    "  \"Years__ESTANDAR\": [\"2023\", \"2024\", \"2025\"]\n",
    "}\n",
    "for key in none_values.keys():\n",
    "\tif key in response2.keys() and response2[key] is not None:\n",
    "\t\tresponse_values = response2[key]\n",
    "\t\tif isinstance(response2[key], str):\n",
    "\t\t\tresponse_values = [response_values]\n",
    "\t\tresponse_values = [get_closer_string(value, possible_values[key]) for value in response_values]\n",
    "\t\tdimensions_values[key] = response_values\n",
    "\telse:\n",
    "\t\tdimensions_values[key] = None"
   ]
  },
  {
   "cell_type": "code",
   "execution_count": 24,
   "metadata": {},
   "outputs": [],
   "source": [
    "dimensions_values = {'Years__ESTANDAR': ['2024', '2025'], 'City (Country)': 'Argentina'}\n",
    "dimensions_names = ['Years__ESTANDAR', 'City (Country)']\n",
    "possible_values = {'Years__ESTANDAR': {'1900': 68109, '1901': 68110, '1902': 68111, '1903': 68112, '1904': 68113, '1905': 68114, '1906': 68115, '1907': 68116, '1908': 68117, '1909': 68118, '1910': 68119, '1911': 68120, '1912': 68121, '1913': 68122, '1914': 68123, '1915': 68124, '1916': 68125, '1917': 68126, '1918': 68127, '1919': 68128, '1920': 68129, '1921': 68130, '1922': 68131, '1923': 68132, '1924': 68133, '1925': 68134, '1926': 68135, '1927': 68136, '1928': 68137, '1929': 68138, '1930': 68139, '1931': 68140, '1932': 68141, '1933': 68142, '1934': 68143, '1935': 68144, '1936': 68145, '1937': 68146, '1938': 68147, '1939': 68148, '1940': 68149, '1941': 68150, '1942': 68151, '1943': 68152, '1944': 68153, '1945': 68154, '1946': 68155, '1947': 68156, '1948': 68157, '1949': 68158, '1950': 29119, '1951': 29118, '1952': 29120, '1953': 29121, '1954': 29122, '1955': 29123, '1956': 29124, '1957': 29125, '1958': 29126, '1959': 29127, '1960': 29128, '1961': 29129, '1962': 29130, '1963': 29131, '1964': 29132, '1965': 29133, '1966': 29134, '1967': 29135, '1968': 29136, '1969': 29137, '1970': 29138, '1971': 29139, '1972': 29140, '1973': 29141, '1974': 29142, '1975': 29143, '1976': 29144, '1977': 29145, '1978': 29146, '1979': 29147, '1980': 29150, '1981': 29151, '1982': 29152, '1983': 29153, '1984': 29154, '1985': 29155, '1986': 29156, '1987': 29157, '1988': 29158, '1989': 29159, '1990': 29160, '1991': 29161, '1992': 29162, '1993': 29163, '1994': 29164, '1995': 29165, '1996': 29166, '1997': 29167, '1998': 29168, '1999': 29169, '2000': 29170, '2001': 29171, '2002': 29172, '2003': 29173, '2004': 29174, '2005': 29175, '2006': 29176, '2007': 29177, '2008': 29178, '2009': 29179, '2010': 29180, '2011': 29181, '2012': 29182, '2013': 29183, '2014': 29184, '2015': 29185, '2016': 29186, '2017': 29187, '2018': 29188, '2019': 29189, '2020': 29190, '2021': 29191, '2022': 29192, '2023': 29193, '2024': 29194, '2025': 29195, '2026': 29196, '2027': 29197, '2028': 29198, '2029': 29199, '2030': 29200, '2031': 29201, '2032': 29202, '2033': 29203, '2034': 29204, '2035': 29205, '2036': 29206, '2037': 29207, '2038': 29208, '2039': 29209, '2040': 29210, '2041': 29211, '2042': 29212, '2043': 29213, '2044': 29214, '2045': 29215, '2046': 29216, '2047': 29217, '2048': 29218, '2049': 29219, '2050': 29220, '2051': 32096, '2052': 32097, '2053': 32098, '2054': 32099, '2055': 32100, '2056': 32101, '2057': 32102, '2058': 32103, '2059': 32104, '2060': 32105, '2061': 32106, '2062': 32107, '2063': 32108, '2064': 32109, '2065': 32110, '2066': 32111, '2067': 32112, '2068': 32113, '2069': 32114, '2070': 32115, '2071': 32116, '2072': 32117, '2073': 32118, '2074': 32119, '2075': 32120, '2076': 32121, '2077': 32122, '2078': 32123, '2079': 32124, '2080': 32125, '2081': 32126, '2082': 32127, '2083': 32128, '2084': 32129, '2085': 32130, '2086': 32131, '2087': 32132, '2088': 32133, '2089': 32134, '2090': 32135, '2091': 32136, '2092': 32137, '2093': 32138, '2094': 32139, '2095': 32140, '2096': 32141, '2097': 32142, '2098': 32143, '2099': 32144, '2100': 32145}, 'City (Country)': {'BOGOTA D.C. (COLOMBIA)': 56132, 'MEXICO CITY (MEXICO)': 56135, 'MONTEVIDEO - DEPARTMENT (URUGUAY)': 56133, 'MUNICIPALITY OF SAO PAULO (BRASIL)': 56136, 'SANTIAGO METROPOLITAN REGION (CHILE)': 56134}}"
   ]
  },
  {
   "cell_type": "code",
   "execution_count": 26,
   "metadata": {},
   "outputs": [
    {
     "name": "stdout",
     "output_type": "stream",
     "text": []
    },
    {
     "name": "stdout",
     "output_type": "stream",
     "text": []
    }
   ],
   "source": [
    "dimensions_values_ids = []\n",
    "for key in dimensions_names:\n",
    "\tif dimensions_values[key] is not None:\n",
    "\t\tks = dimensions_values[key]\n",
    "\t\tfor k in ks:\n",
    "\t\t\tprint(key, k)\n",
    "\t\t\tdimensions_values_ids.append(str(possible_values[key][k]))\n",
    "members = \",\".join(map(str,dimensions_values_ids))"
   ]
  }
 ],
 "metadata": {
  "kernelspec": {
   "display_name": "agents",
   "language": "python",
   "name": "python3"
  },
  "language_info": {
   "codemirror_mode": {
    "name": "ipython",
    "version": 3
   },
   "file_extension": ".py",
   "mimetype": "text/x-python",
   "name": "python",
   "nbconvert_exporter": "python",
   "pygments_lexer": "ipython3",
   "version": "3.10.16"
  }
 },
 "nbformat": 4,
 "nbformat_minor": 2
}
